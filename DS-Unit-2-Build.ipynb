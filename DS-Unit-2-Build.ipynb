{
 "cells": [
  {
   "cell_type": "code",
   "execution_count": 1,
   "metadata": {},
   "outputs": [],
   "source": [
    "# Imports\n",
    "import IPython\n",
    "import pandas as pd\n",
    "import numpy as np\n",
    "import seaborn as sns\n",
    "import matplotlib.pyplot as plt\n",
    "from sklearn.decomposition import PCA\n",
    "from sklearn.cluster import KMeans\n",
    "from sklearn.ensemble import RandomForestRegressor\n",
    "from sklearn.impute import SimpleImputer\n",
    "from sklearn.pipeline import make_pipeline\n",
    "import category_encoders as ce\n",
    "from sklearn.preprocessing import StandardScaler\n",
    "import plotly\n",
    "import plotly.graph_objs as go\n",
    "import plotly.figure_factory as ff\n",
    "import plotly.express as px\n",
    "from plotly.offline import init_notebook_mode, plot, iplot"
   ]
  },
  {
   "cell_type": "code",
   "execution_count": 2,
   "metadata": {},
   "outputs": [],
   "source": [
    "# Read the files from GitHub.\n",
    "''' The data_url is the data that was modified. '''\n",
    "    \n",
    "data_url = 'https://raw.githubusercontent.com/VS-Coder/Lambda-School/master/Mod_Data.csv'\n",
    "\n",
    "spot_df = pd.read_csv(data_url, na_values=\"?\")"
   ]
  },
  {
   "cell_type": "code",
   "execution_count": 3,
   "metadata": {},
   "outputs": [],
   "source": [
    "# drop duplicate column genres.\n",
    "spot_df.drop(['genres', 'Unnamed: 0'], axis=1, inplace=True)"
   ]
  },
  {
   "cell_type": "code",
   "execution_count": 4,
   "metadata": {},
   "outputs": [
    {
     "data": {
      "text/plain": [
       "artists             393\n",
       "acousticness        393\n",
       "danceability        393\n",
       "duration_ms         393\n",
       "energy              393\n",
       "instrumentalness    393\n",
       "liveness            393\n",
       "loudness            393\n",
       "speechiness         393\n",
       "tempo               393\n",
       "valence             393\n",
       "popularity          393\n",
       "key                   0\n",
       "mode                393\n",
       "count               393\n",
       "fixed_genres          0\n",
       "dtype: int64"
      ]
     },
     "execution_count": 4,
     "metadata": {},
     "output_type": "execute_result"
    }
   ],
   "source": [
    "# Checking for null valules.\n",
    "spot_df.isna().sum()"
   ]
  },
  {
   "cell_type": "code",
   "execution_count": 5,
   "metadata": {},
   "outputs": [],
   "source": [
    "# Dropping the null values.\n",
    "spot_df = spot_df.dropna()"
   ]
  },
  {
   "cell_type": "code",
   "execution_count": 6,
   "metadata": {},
   "outputs": [
    {
     "data": {
      "text/plain": [
       "artists             0\n",
       "acousticness        0\n",
       "danceability        0\n",
       "duration_ms         0\n",
       "energy              0\n",
       "instrumentalness    0\n",
       "liveness            0\n",
       "loudness            0\n",
       "speechiness         0\n",
       "tempo               0\n",
       "valence             0\n",
       "popularity          0\n",
       "key                 0\n",
       "mode                0\n",
       "count               0\n",
       "fixed_genres        0\n",
       "dtype: int64"
      ]
     },
     "execution_count": 6,
     "metadata": {},
     "output_type": "execute_result"
    }
   ],
   "source": [
    "# Checking that the null values(0) were dropped.\n",
    "spot_df.isna().sum()"
   ]
  },
  {
   "cell_type": "code",
   "execution_count": 28,
   "metadata": {},
   "outputs": [],
   "source": [
    "# Defining the target and features.\n",
    "target = 'popularity'\n",
    "features = ['valence', 'energy', 'tempo','acousticness','liveness','loudness','speechiness']"
   ]
  },
  {
   "cell_type": "code",
   "execution_count": 29,
   "metadata": {},
   "outputs": [
    {
     "data": {
      "text/plain": [
       "Index(['artists', 'acousticness', 'danceability', 'duration_ms', 'energy',\n",
       "       'instrumentalness', 'liveness', 'loudness', 'speechiness', 'tempo',\n",
       "       'valence', 'popularity', 'key', 'mode', 'count', 'fixed_genres'],\n",
       "      dtype='object')"
      ]
     },
     "execution_count": 29,
     "metadata": {},
     "output_type": "execute_result"
    }
   ],
   "source": [
    "# Dispaly the columns of the dataset.\n",
    "spot_df.columns\n"
   ]
  },
  {
   "cell_type": "code",
   "execution_count": 30,
   "metadata": {},
   "outputs": [],
   "source": [
    "# Split the data.\n",
    "from sklearn.model_selection import train_test_split\n",
    "train, test = train_test_split(spot_df, train_size=0.70, test_size=0.30, random_state=42)"
   ]
  },
  {
   "cell_type": "code",
   "execution_count": 31,
   "metadata": {},
   "outputs": [],
   "source": [
    "train, val = train_test_split(train, train_size=0.70, test_size=0.30, random_state=42)"
   ]
  },
  {
   "cell_type": "code",
   "execution_count": 32,
   "metadata": {},
   "outputs": [
    {
     "name": "stderr",
     "output_type": "stream",
     "text": [
      "C:\\Users\\Owner\\.conda\\envs\\unit2\\lib\\site-packages\\category_encoders\\utils.py:21: FutureWarning:\n",
      "\n",
      "is_categorical is deprecated and will be removed in a future version.  Use is_categorical_dtype instead\n",
      "\n"
     ]
    },
    {
     "name": "stdout",
     "output_type": "stream",
     "text": [
      "Validation Accuracy 0.618256477620861\n"
     ]
    }
   ],
   "source": [
    "# Establish the pipeline. Use the mean as the baseline.\n",
    "# This is a tree-based model. \n",
    "pipeline = make_pipeline(\n",
    "    ce.OneHotEncoder(use_cat_names=True), \n",
    "    SimpleImputer(strategy='mean'), \n",
    "    RandomForestRegressor(random_state=42, n_jobs=1)\n",
    ")\n",
    "\n",
    "# Make the test, train, and val matrixes.\n",
    "X_train = train[features]\n",
    "y_train = train[target]\n",
    "X_test = test[features]\n",
    "y_test = test[target]\n",
    "X_val = val[features]\n",
    "y_val = val[target]\n",
    "\n",
    "# Fit on train, score on val.\n",
    "# Get accuracy score.\n",
    "pipeline.fit(X_train, y_train)\n",
    "print('Validation Accuracy', pipeline.score(X_val, y_val))"
   ]
  },
  {
   "cell_type": "code",
   "execution_count": 40,
   "metadata": {},
   "outputs": [],
   "source": [
    "# For linear Regression drop only the target.\n",
    "features = spot_df.drop(target, axis=1)"
   ]
  },
  {
   "cell_type": "code",
   "execution_count": 41,
   "metadata": {},
   "outputs": [
    {
     "data": {
      "text/plain": [
       "Index(['artists', 'acousticness', 'danceability', 'duration_ms', 'energy',\n",
       "       'instrumentalness', 'liveness', 'loudness', 'speechiness', 'tempo',\n",
       "       'valence', 'key', 'mode', 'count', 'fixed_genres'],\n",
       "      dtype='object')"
      ]
     },
     "execution_count": 41,
     "metadata": {},
     "output_type": "execute_result"
    }
   ],
   "source": [
    "# Displaying the columns\n",
    "features.columns"
   ]
  },
  {
   "cell_type": "code",
   "execution_count": 46,
   "metadata": {},
   "outputs": [
    {
     "name": "stdout",
     "output_type": "stream",
     "text": [
      "Validation Accruacy 0.40819994952064376\n"
     ]
    },
    {
     "name": "stderr",
     "output_type": "stream",
     "text": [
      "C:\\Users\\Owner\\.conda\\envs\\unit2\\lib\\site-packages\\category_encoders\\utils.py:21: FutureWarning:\n",
      "\n",
      "is_categorical is deprecated and will be removed in a future version.  Use is_categorical_dtype instead\n",
      "\n"
     ]
    }
   ],
   "source": [
    "# Linaer Regression model. Prediction and scoring also included here.\n",
    "from sklearn.linear_model import LinearRegression\n",
    "\n",
    "pline = make_pipeline(\n",
    "    ce.OneHotEncoder(use_cat_names=True),\n",
    "    SimpleImputer(strategy='mean'), \n",
    "    StandardScaler(), \n",
    "    LinearRegression(n_jobs=-1)\n",
    ")\n",
    "# Fit on train\n",
    "pline.fit(X_train, y_train)\n",
    "\n",
    "# Score on validation\n",
    "print ('Validation Accruacy', pline.score(X_val, y_val))\n",
    "\n",
    "# Predict on test\n",
    "y_pred = pline.predict(X_test)\n"
   ]
  },
  {
   "cell_type": "markdown",
   "metadata": {},
   "source": [
    "# "
   ]
  },
  {
   "cell_type": "code",
   "execution_count": 50,
   "metadata": {},
   "outputs": [
    {
     "data": {
      "image/png": "[encoded data removed]",
      "text/plain": [
       "<Figure size 720x2160 with 1 Axes>"
      ]
     },
     "metadata": {
      "needs_background": "light"
     },
     "output_type": "display_data"
    }
   ],
   "source": [
    "%matplotlib inline\n",
    "import matplotlib.pyplot as plt\n",
    "\n",
    "model = pline.named_steps['linearregression']\n",
    "encoder = pline.named_steps['onehotencoder']\n",
    "encoded_columns = encoder.transform(X_val).columns\n",
    "coefficients = pd.Series(model.coef_[0], encoded_columns)\n",
    "plt.figure(figsize=(10,30))\n",
    "coefficients.sort_values().plot.barh(color='grey');"
   ]
  },
  {
   "cell_type": "code",
   "execution_count": null,
   "metadata": {},
   "outputs": [],
   "source": []
  },
  {
   "cell_type": "code",
   "execution_count": null,
   "metadata": {},
   "outputs": [],
   "source": []
  },
  {
   "cell_type": "code",
   "execution_count": null,
   "metadata": {},
   "outputs": [],
   "source": []
  }
 ],
 "metadata": {
  "kernelspec": {
   "display_name": "Python 3",
   "language": "python",
   "name": "python3"
  },
  "language_info": {
   "codemirror_mode": {
    "name": "ipython",
    "version": 3
   },
   "file_extension": ".py",
   "mimetype": "text/x-python",
   "name": "python",
   "nbconvert_exporter": "python",
   "pygments_lexer": "ipython3",
   "version": "3.7.8"
  }
 },
 "nbformat": 4,
 "nbformat_minor": 4
}
